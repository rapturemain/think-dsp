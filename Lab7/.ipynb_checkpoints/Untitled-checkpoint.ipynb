{
 "cells": [
  {
   "cell_type": "code",
   "execution_count": 1,
   "id": "amateur-calculation",
   "metadata": {},
   "outputs": [],
   "source": [
    "import numpy as np\n",
    "import matplotlib.pyplot as plt\n",
    "from thinkdsp import *"
   ]
  },
  {
   "cell_type": "code",
   "execution_count": 18,
   "id": "graphic-excellence",
   "metadata": {},
   "outputs": [],
   "source": [
    "def synthesis_matrix(N):\n",
    "    ts = np.arange(N) / N\n",
    "    freqs = np.arange(N)\n",
    "    args = np.outer(ts, freqs)\n",
    "    M = np.exp(1j * PI2 * args)\n",
    "    return M\n",
    "def dft(ys):\n",
    "    N = len(ys)\n",
    "    M = synthesis_matrix(N)\n",
    "    amps = M.conj().transpose().dot(ys)\n",
    "    return amps"
   ]
  },
  {
   "cell_type": "code",
   "execution_count": 54,
   "id": "tight-interview",
   "metadata": {},
   "outputs": [],
   "source": [
    "def fft(ys):\n",
    "    N = len(ys)\n",
    "    for (i)\n",
    "    if N == 1:\n",
    "        return ys\n",
    "    \n",
    "    even = fft(ys[::2])\n",
    "    odd = fft(ys[1::2])\n",
    "            \n",
    "    ns = np.arange(N)\n",
    "            \n",
    "    return np.tile(even, 2) + np.exp(-1j * PI2 * ns / N) * np.tile(odd, 2)"
   ]
  },
  {
   "cell_type": "code",
   "execution_count": 74,
   "id": "round-attention",
   "metadata": {},
   "outputs": [
    {
     "data": {
      "text/plain": [
       "3.0577363924977356e-13"
      ]
     },
     "execution_count": 74,
     "metadata": {},
     "output_type": "execute_result"
    }
   ],
   "source": [
    "sig = SawtoothSignal(freq=1000)\n",
    "ys = sig.make_wave(duration=0.0116).ys\n",
    "np.sum(np.abs(np.fft.fft(ys) - fft(ys)))"
   ]
  },
  {
   "cell_type": "code",
   "execution_count": null,
   "id": "global-civilian",
   "metadata": {},
   "outputs": [],
   "source": []
  },
  {
   "cell_type": "code",
   "execution_count": null,
   "id": "august-patch",
   "metadata": {},
   "outputs": [],
   "source": []
  }
 ],
 "metadata": {
  "kernelspec": {
   "display_name": "Python 3",
   "language": "python",
   "name": "python3"
  },
  "language_info": {
   "codemirror_mode": {
    "name": "ipython",
    "version": 3
   },
   "file_extension": ".py",
   "mimetype": "text/x-python",
   "name": "python",
   "nbconvert_exporter": "python",
   "pygments_lexer": "ipython3",
   "version": "3.9.1"
  }
 },
 "nbformat": 4,
 "nbformat_minor": 5
}
